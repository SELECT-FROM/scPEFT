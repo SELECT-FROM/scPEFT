{
 "cells": [
  {
   "cell_type": "code",
   "execution_count": null,
   "id": "initial_id",
   "metadata": {
    "collapsed": true,
    "ExecuteTime": {
     "end_time": "2025-03-30T09:25:31.358130Z",
     "start_time": "2025-03-30T09:25:30.111463Z"
    }
   },
   "outputs": [],
   "source": [
    "import pandas as pd\n",
    "import scanpy as sc\n",
    "import rpy2.robjects as robjects\n",
    "\n",
    "try:\n",
    "    robjects.r('library(homologene)')\n",
    "except ImportError:\n",
    "    import warnings\n",
    "\n",
    "    warnings.warn(\"homologene is not installed\")"
   ]
  },
  {
   "cell_type": "markdown",
   "source": [
    "## Obtain all species supported by the homologene package and their IDs"
   ],
   "metadata": {
    "collapsed": false
   },
   "id": "9930f469bdbcac3"
  },
  {
   "cell_type": "code",
   "outputs": [],
   "source": [
    "# species_ids\n",
    "species_ids = robjects.r('homologene::taxData')\n",
    "\n",
    "species_ids_df = pd.DataFrame({col: species_ids.rx2(col) for col in species_ids.names})\n",
    "species_ids_dict = species_ids_df.set_index('name_txt')['tax_id'].to_dict()"
   ],
   "metadata": {
    "collapsed": false,
    "ExecuteTime": {
     "end_time": "2025-03-30T09:27:34.389741Z",
     "start_time": "2025-03-30T09:27:34.376750Z"
    }
   },
   "id": "5e068819f0899fdb",
   "execution_count": null
  },
  {
   "cell_type": "code",
   "outputs": [
    {
     "data": {
      "text/plain": "    tax_id                       name_txt\n0    10090                   Mus musculus\n1    10116              Rattus norvegicus\n2    28985           Kluyveromyces lactis\n3   318829             Magnaporthe oryzae\n4    33169          Eremothecium gossypii\n5     3702           Arabidopsis thaliana\n6     4530                   Oryza sativa\n7     4896      Schizosaccharomyces pombe\n8     4932       Saccharomyces cerevisiae\n9     5141              Neurospora crassa\n10    6239         Caenorhabditis elegans\n11    7165              Anopheles gambiae\n12    7227        Drosophila melanogaster\n13    7955                    Danio rerio\n14    8364  Xenopus (Silurana) tropicalis\n15    9031                  Gallus gallus\n16    9544                 Macaca mulatta\n17    9598                Pan troglodytes\n18    9606                   Homo sapiens\n19    9615         Canis lupus familiaris\n20    9913                     Bos taurus",
      "text/html": "<div>\n<style scoped>\n    .dataframe tbody tr th:only-of-type {\n        vertical-align: middle;\n    }\n\n    .dataframe tbody tr th {\n        vertical-align: top;\n    }\n\n    .dataframe thead th {\n        text-align: right;\n    }\n</style>\n<table border=\"1\" class=\"dataframe\">\n  <thead>\n    <tr style=\"text-align: right;\">\n      <th></th>\n      <th>tax_id</th>\n      <th>name_txt</th>\n    </tr>\n  </thead>\n  <tbody>\n    <tr>\n      <th>0</th>\n      <td>10090</td>\n      <td>Mus musculus</td>\n    </tr>\n    <tr>\n      <th>1</th>\n      <td>10116</td>\n      <td>Rattus norvegicus</td>\n    </tr>\n    <tr>\n      <th>2</th>\n      <td>28985</td>\n      <td>Kluyveromyces lactis</td>\n    </tr>\n    <tr>\n      <th>3</th>\n      <td>318829</td>\n      <td>Magnaporthe oryzae</td>\n    </tr>\n    <tr>\n      <th>4</th>\n      <td>33169</td>\n      <td>Eremothecium gossypii</td>\n    </tr>\n    <tr>\n      <th>5</th>\n      <td>3702</td>\n      <td>Arabidopsis thaliana</td>\n    </tr>\n    <tr>\n      <th>6</th>\n      <td>4530</td>\n      <td>Oryza sativa</td>\n    </tr>\n    <tr>\n      <th>7</th>\n      <td>4896</td>\n      <td>Schizosaccharomyces pombe</td>\n    </tr>\n    <tr>\n      <th>8</th>\n      <td>4932</td>\n      <td>Saccharomyces cerevisiae</td>\n    </tr>\n    <tr>\n      <th>9</th>\n      <td>5141</td>\n      <td>Neurospora crassa</td>\n    </tr>\n    <tr>\n      <th>10</th>\n      <td>6239</td>\n      <td>Caenorhabditis elegans</td>\n    </tr>\n    <tr>\n      <th>11</th>\n      <td>7165</td>\n      <td>Anopheles gambiae</td>\n    </tr>\n    <tr>\n      <th>12</th>\n      <td>7227</td>\n      <td>Drosophila melanogaster</td>\n    </tr>\n    <tr>\n      <th>13</th>\n      <td>7955</td>\n      <td>Danio rerio</td>\n    </tr>\n    <tr>\n      <th>14</th>\n      <td>8364</td>\n      <td>Xenopus (Silurana) tropicalis</td>\n    </tr>\n    <tr>\n      <th>15</th>\n      <td>9031</td>\n      <td>Gallus gallus</td>\n    </tr>\n    <tr>\n      <th>16</th>\n      <td>9544</td>\n      <td>Macaca mulatta</td>\n    </tr>\n    <tr>\n      <th>17</th>\n      <td>9598</td>\n      <td>Pan troglodytes</td>\n    </tr>\n    <tr>\n      <th>18</th>\n      <td>9606</td>\n      <td>Homo sapiens</td>\n    </tr>\n    <tr>\n      <th>19</th>\n      <td>9615</td>\n      <td>Canis lupus familiaris</td>\n    </tr>\n    <tr>\n      <th>20</th>\n      <td>9913</td>\n      <td>Bos taurus</td>\n    </tr>\n  </tbody>\n</table>\n</div>"
     },
     "execution_count": null,
     "metadata": {},
     "output_type": "execute_result"
    }
   ],
   "source": [
    "species_ids_df"
   ],
   "metadata": {
    "collapsed": false,
    "ExecuteTime": {
     "end_time": "2025-03-30T09:27:39.056307Z",
     "start_time": "2025-03-30T09:27:39.006440Z"
    }
   },
   "id": "58e1b753333daf63",
   "execution_count": null
  },
  {
   "cell_type": "code",
   "outputs": [
    {
     "data": {
      "text/plain": "6239"
     },
     "execution_count": null,
     "metadata": {},
     "output_type": "execute_result"
    }
   ],
   "source": [
    "species_ids_dict[\"Caenorhabditis elegans\"]"
   ],
   "metadata": {
    "collapsed": false,
    "ExecuteTime": {
     "end_time": "2025-03-30T09:32:46.602893Z",
     "start_time": "2025-03-30T09:32:46.581947Z"
    }
   },
   "id": "9c59e94fa8f1f5c1",
   "execution_count": null
  },
  {
   "cell_type": "code",
   "outputs": [
    {
     "data": {
      "text/plain": "9606"
     },
     "execution_count": null,
     "metadata": {},
     "output_type": "execute_result"
    }
   ],
   "source": [
    "species_ids_dict[\"Homo sapiens\"]"
   ],
   "metadata": {
    "collapsed": false,
    "ExecuteTime": {
     "end_time": "2025-03-30T09:33:00.671319Z",
     "start_time": "2025-03-30T09:33:00.663339Z"
    }
   },
   "id": "72c49bb844e26c23",
   "execution_count": null
  },
  {
   "cell_type": "markdown",
   "source": [
    "### This tutorial takes [C. Elegans](https://storage.googleapis.com/worm_public/ad_worm_aging.h5ad) dataset as an example"
   ],
   "metadata": {
    "collapsed": false
   },
   "id": "28baafe6e71c211"
  },
  {
   "cell_type": "code",
   "outputs": [],
   "source": [
    "data_train = sc.read_h5ad('ad_worm_aging.h5ad')\n",
    "gene_names = data_train.var[\"gene_names\"].tolist()"
   ],
   "metadata": {
    "collapsed": false,
    "ExecuteTime": {
     "end_time": "2025-03-30T09:31:59.635617Z",
     "start_time": "2025-03-30T09:31:45.036501Z"
    }
   },
   "id": "1d4b662213d11501",
   "execution_count": null
  },
  {
   "cell_type": "markdown",
   "source": [
    "## Call the homologene package to retrieve information"
   ],
   "metadata": {
    "collapsed": false
   },
   "id": "9575ff8a7716d8fa"
  },
  {
   "cell_type": "code",
   "outputs": [],
   "source": [
    "r_gene_names = robjects.ListVector({'gene_names': robjects.StrVector(gene_names)})\n",
    "robjects.globalenv['genelist'] = r_gene_names.rx2('gene_names')\n",
    "\n",
    "homologenes_mapping = robjects.r('homologene(genelist, inTax = 6239, outTax = 9606)')"
   ],
   "metadata": {
    "collapsed": false,
    "ExecuteTime": {
     "end_time": "2025-03-30T09:34:52.383314Z",
     "start_time": "2025-03-30T09:34:50.409589Z"
    }
   },
   "id": "e7bb555f68778b3a",
   "execution_count": null
  },
  {
   "cell_type": "code",
   "outputs": [],
   "source": [
    "homologenes_df = pd.DataFrame({col: homologenes_mapping.rx2(col) for col in homologenes_mapping.names})"
   ],
   "metadata": {
    "collapsed": false,
    "ExecuteTime": {
     "end_time": "2025-03-30T09:36:43.256363Z",
     "start_time": "2025-03-30T09:36:43.193532Z"
    }
   },
   "id": "32896e9b012a1ad4",
   "execution_count": null
  },
  {
   "cell_type": "code",
   "outputs": [
    {
     "data": {
      "text/plain": "           6239     9606  6239_ID  9606_ID\n0        homt-1    NTMT1   171590    28989\n1        sesn-1    SESN3   171593   143686\n2     Y48G1C.12  ANAPC10  3565580    10393\n3         pgs-1     PGS1   171594     9489\n4         csk-1      CSK   266817     1445\n...         ...      ...      ...      ...\n3080      mlc-2    MYLPF   181775    29895\n3081      mlc-1    MYLPF   181776    29895\n3082     npr-24    SSTR2   187897     6752\n3083   H18N23.2  PPP1R3B   181788    79660\n3084      cgt-2     UGCG   181790     7357\n\n[3085 rows x 4 columns]",
      "text/html": "<div>\n<style scoped>\n    .dataframe tbody tr th:only-of-type {\n        vertical-align: middle;\n    }\n\n    .dataframe tbody tr th {\n        vertical-align: top;\n    }\n\n    .dataframe thead th {\n        text-align: right;\n    }\n</style>\n<table border=\"1\" class=\"dataframe\">\n  <thead>\n    <tr style=\"text-align: right;\">\n      <th></th>\n      <th>6239</th>\n      <th>9606</th>\n      <th>6239_ID</th>\n      <th>9606_ID</th>\n    </tr>\n  </thead>\n  <tbody>\n    <tr>\n      <th>0</th>\n      <td>homt-1</td>\n      <td>NTMT1</td>\n      <td>171590</td>\n      <td>28989</td>\n    </tr>\n    <tr>\n      <th>1</th>\n      <td>sesn-1</td>\n      <td>SESN3</td>\n      <td>171593</td>\n      <td>143686</td>\n    </tr>\n    <tr>\n      <th>2</th>\n      <td>Y48G1C.12</td>\n      <td>ANAPC10</td>\n      <td>3565580</td>\n      <td>10393</td>\n    </tr>\n    <tr>\n      <th>3</th>\n      <td>pgs-1</td>\n      <td>PGS1</td>\n      <td>171594</td>\n      <td>9489</td>\n    </tr>\n    <tr>\n      <th>4</th>\n      <td>csk-1</td>\n      <td>CSK</td>\n      <td>266817</td>\n      <td>1445</td>\n    </tr>\n    <tr>\n      <th>...</th>\n      <td>...</td>\n      <td>...</td>\n      <td>...</td>\n      <td>...</td>\n    </tr>\n    <tr>\n      <th>3080</th>\n      <td>mlc-2</td>\n      <td>MYLPF</td>\n      <td>181775</td>\n      <td>29895</td>\n    </tr>\n    <tr>\n      <th>3081</th>\n      <td>mlc-1</td>\n      <td>MYLPF</td>\n      <td>181776</td>\n      <td>29895</td>\n    </tr>\n    <tr>\n      <th>3082</th>\n      <td>npr-24</td>\n      <td>SSTR2</td>\n      <td>187897</td>\n      <td>6752</td>\n    </tr>\n    <tr>\n      <th>3083</th>\n      <td>H18N23.2</td>\n      <td>PPP1R3B</td>\n      <td>181788</td>\n      <td>79660</td>\n    </tr>\n    <tr>\n      <th>3084</th>\n      <td>cgt-2</td>\n      <td>UGCG</td>\n      <td>181790</td>\n      <td>7357</td>\n    </tr>\n  </tbody>\n</table>\n<p>3085 rows × 4 columns</p>\n</div>"
     },
     "execution_count": null,
     "metadata": {},
     "output_type": "execute_result"
    }
   ],
   "source": [
    "homologenes_df"
   ],
   "metadata": {
    "collapsed": false,
    "ExecuteTime": {
     "end_time": "2025-03-30T09:37:30.273158Z",
     "start_time": "2025-03-30T09:37:30.253185Z"
    }
   },
   "id": "d4108f6047709fab",
   "execution_count": null
  },
  {
   "cell_type": "code",
   "outputs": [],
   "source": [],
   "metadata": {
    "collapsed": false
   },
   "id": "f0d935a12a32b8b2"
  }
 ],
 "metadata": {
  "kernelspec": {
   "display_name": "Python 3",
   "language": "python",
   "name": "python3"
  },
  "language_info": {
   "codemirror_mode": {
    "name": "ipython",
    "version": 2
   },
   "file_extension": ".py",
   "mimetype": "text/x-python",
   "name": "python",
   "nbconvert_exporter": "python",
   "pygments_lexer": "ipython2",
   "version": "2.7.6"
  }
 },
 "nbformat": 4,
 "nbformat_minor": 5
}
