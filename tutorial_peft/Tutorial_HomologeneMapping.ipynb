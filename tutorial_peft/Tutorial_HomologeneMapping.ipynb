{
 "cells": [
  {
   "cell_type": "code",
   "execution_count": 1,
   "id": "initial_id",
   "metadata": {
    "ExecuteTime": {
     "end_time": "2025-03-31T16:40:23.054449Z",
     "start_time": "2025-03-31T16:40:15.549231Z"
    },
    "collapsed": true
   },
   "outputs": [],
   "source": [
    "import pandas as pd\n",
    "import scanpy as sc\n",
    "import rpy2.robjects as robjects\n",
    "\n",
    "try:\n",
    "    robjects.r('library(homologene)')\n",
    "except ImportError:\n",
    "    import warnings\n",
    "\n",
    "    warnings.warn(\"homologene is not installed\")"
   ]
  },
  {
   "cell_type": "markdown",
   "id": "9930f469bdbcac3",
   "metadata": {},
   "source": [
    "## Obtain all species supported by the homologene package and their IDs"
   ]
  },
  {
   "cell_type": "code",
   "execution_count": 2,
   "id": "5e068819f0899fdb",
   "metadata": {
    "ExecuteTime": {
     "end_time": "2025-03-31T16:40:23.148285Z",
     "start_time": "2025-03-31T16:40:23.056358Z"
    }
   },
   "outputs": [],
   "source": [
    "# species_ids\n",
    "species_ids = robjects.r('homologene::taxData')\n",
    "\n",
    "species_ids_df = pd.DataFrame({col: species_ids.rx2(col) for col in species_ids.names})\n",
    "species_ids_dict = species_ids_df.set_index('name_txt')['tax_id'].to_dict()"
   ]
  },
  {
   "cell_type": "code",
   "execution_count": 3,
   "id": "58e1b753333daf63",
   "metadata": {
    "ExecuteTime": {
     "end_time": "2025-03-31T16:40:23.180027Z",
     "start_time": "2025-03-31T16:40:23.150108Z"
    }
   },
   "outputs": [
    {
     "data": {
      "text/html": [
       "<div>\n",
       "<style scoped>\n",
       "    .dataframe tbody tr th:only-of-type {\n",
       "        vertical-align: middle;\n",
       "    }\n",
       "\n",
       "    .dataframe tbody tr th {\n",
       "        vertical-align: top;\n",
       "    }\n",
       "\n",
       "    .dataframe thead th {\n",
       "        text-align: right;\n",
       "    }\n",
       "</style>\n",
       "<table border=\"1\" class=\"dataframe\">\n",
       "  <thead>\n",
       "    <tr style=\"text-align: right;\">\n",
       "      <th></th>\n",
       "      <th>tax_id</th>\n",
       "      <th>name_txt</th>\n",
       "    </tr>\n",
       "  </thead>\n",
       "  <tbody>\n",
       "    <tr>\n",
       "      <th>0</th>\n",
       "      <td>10090</td>\n",
       "      <td>Mus musculus</td>\n",
       "    </tr>\n",
       "    <tr>\n",
       "      <th>1</th>\n",
       "      <td>10116</td>\n",
       "      <td>Rattus norvegicus</td>\n",
       "    </tr>\n",
       "    <tr>\n",
       "      <th>2</th>\n",
       "      <td>28985</td>\n",
       "      <td>Kluyveromyces lactis</td>\n",
       "    </tr>\n",
       "    <tr>\n",
       "      <th>3</th>\n",
       "      <td>318829</td>\n",
       "      <td>Magnaporthe oryzae</td>\n",
       "    </tr>\n",
       "    <tr>\n",
       "      <th>4</th>\n",
       "      <td>33169</td>\n",
       "      <td>Eremothecium gossypii</td>\n",
       "    </tr>\n",
       "    <tr>\n",
       "      <th>5</th>\n",
       "      <td>3702</td>\n",
       "      <td>Arabidopsis thaliana</td>\n",
       "    </tr>\n",
       "    <tr>\n",
       "      <th>6</th>\n",
       "      <td>4530</td>\n",
       "      <td>Oryza sativa</td>\n",
       "    </tr>\n",
       "    <tr>\n",
       "      <th>7</th>\n",
       "      <td>4896</td>\n",
       "      <td>Schizosaccharomyces pombe</td>\n",
       "    </tr>\n",
       "    <tr>\n",
       "      <th>8</th>\n",
       "      <td>4932</td>\n",
       "      <td>Saccharomyces cerevisiae</td>\n",
       "    </tr>\n",
       "    <tr>\n",
       "      <th>9</th>\n",
       "      <td>5141</td>\n",
       "      <td>Neurospora crassa</td>\n",
       "    </tr>\n",
       "    <tr>\n",
       "      <th>10</th>\n",
       "      <td>6239</td>\n",
       "      <td>Caenorhabditis elegans</td>\n",
       "    </tr>\n",
       "    <tr>\n",
       "      <th>11</th>\n",
       "      <td>7165</td>\n",
       "      <td>Anopheles gambiae</td>\n",
       "    </tr>\n",
       "    <tr>\n",
       "      <th>12</th>\n",
       "      <td>7227</td>\n",
       "      <td>Drosophila melanogaster</td>\n",
       "    </tr>\n",
       "    <tr>\n",
       "      <th>13</th>\n",
       "      <td>7955</td>\n",
       "      <td>Danio rerio</td>\n",
       "    </tr>\n",
       "    <tr>\n",
       "      <th>14</th>\n",
       "      <td>8364</td>\n",
       "      <td>Xenopus (Silurana) tropicalis</td>\n",
       "    </tr>\n",
       "    <tr>\n",
       "      <th>15</th>\n",
       "      <td>9031</td>\n",
       "      <td>Gallus gallus</td>\n",
       "    </tr>\n",
       "    <tr>\n",
       "      <th>16</th>\n",
       "      <td>9544</td>\n",
       "      <td>Macaca mulatta</td>\n",
       "    </tr>\n",
       "    <tr>\n",
       "      <th>17</th>\n",
       "      <td>9598</td>\n",
       "      <td>Pan troglodytes</td>\n",
       "    </tr>\n",
       "    <tr>\n",
       "      <th>18</th>\n",
       "      <td>9606</td>\n",
       "      <td>Homo sapiens</td>\n",
       "    </tr>\n",
       "    <tr>\n",
       "      <th>19</th>\n",
       "      <td>9615</td>\n",
       "      <td>Canis lupus familiaris</td>\n",
       "    </tr>\n",
       "    <tr>\n",
       "      <th>20</th>\n",
       "      <td>9913</td>\n",
       "      <td>Bos taurus</td>\n",
       "    </tr>\n",
       "  </tbody>\n",
       "</table>\n",
       "</div>"
      ],
      "text/plain": [
       "    tax_id                       name_txt\n",
       "0    10090                   Mus musculus\n",
       "1    10116              Rattus norvegicus\n",
       "2    28985           Kluyveromyces lactis\n",
       "3   318829             Magnaporthe oryzae\n",
       "4    33169          Eremothecium gossypii\n",
       "5     3702           Arabidopsis thaliana\n",
       "6     4530                   Oryza sativa\n",
       "7     4896      Schizosaccharomyces pombe\n",
       "8     4932       Saccharomyces cerevisiae\n",
       "9     5141              Neurospora crassa\n",
       "10    6239         Caenorhabditis elegans\n",
       "11    7165              Anopheles gambiae\n",
       "12    7227        Drosophila melanogaster\n",
       "13    7955                    Danio rerio\n",
       "14    8364  Xenopus (Silurana) tropicalis\n",
       "15    9031                  Gallus gallus\n",
       "16    9544                 Macaca mulatta\n",
       "17    9598                Pan troglodytes\n",
       "18    9606                   Homo sapiens\n",
       "19    9615         Canis lupus familiaris\n",
       "20    9913                     Bos taurus"
      ]
     },
     "execution_count": 3,
     "metadata": {},
     "output_type": "execute_result"
    }
   ],
   "source": [
    "species_ids_df"
   ]
  },
  {
   "cell_type": "code",
   "execution_count": 4,
   "id": "9c59e94fa8f1f5c1",
   "metadata": {
    "ExecuteTime": {
     "end_time": "2025-03-31T16:40:23.195984Z",
     "start_time": "2025-03-31T16:40:23.182022Z"
    }
   },
   "outputs": [
    {
     "data": {
      "text/plain": [
       "6239"
      ]
     },
     "execution_count": 4,
     "metadata": {},
     "output_type": "execute_result"
    }
   ],
   "source": [
    "species_ids_dict[\"Caenorhabditis elegans\"]"
   ]
  },
  {
   "cell_type": "code",
   "execution_count": 5,
   "id": "72c49bb844e26c23",
   "metadata": {
    "ExecuteTime": {
     "end_time": "2025-03-31T16:40:23.211942Z",
     "start_time": "2025-03-31T16:40:23.196983Z"
    }
   },
   "outputs": [
    {
     "data": {
      "text/plain": [
       "9606"
      ]
     },
     "execution_count": 5,
     "metadata": {},
     "output_type": "execute_result"
    }
   ],
   "source": [
    "species_ids_dict[\"Homo sapiens\"]"
   ]
  },
  {
   "cell_type": "markdown",
   "id": "28baafe6e71c211",
   "metadata": {},
   "source": [
    "### This tutorial takes [C. Elegans](https://storage.googleapis.com/worm_public/ad_worm_aging.h5ad) dataset as an example"
   ]
  },
  {
   "cell_type": "code",
   "execution_count": 30,
   "id": "1d4b662213d11501",
   "metadata": {
    "ExecuteTime": {
     "end_time": "2025-03-31T16:47:31.254370Z",
     "start_time": "2025-03-31T16:47:29.673522Z"
    }
   },
   "outputs": [],
   "source": [
    "adata = sc.read_h5ad('ad_worm_aging.h5ad')\n",
    "gene_names = adata.var[\"gene_names\"].tolist()"
   ]
  },
  {
   "cell_type": "markdown",
   "id": "9575ff8a7716d8fa",
   "metadata": {},
   "source": [
    "## Call the homologene package to retrieve information"
   ]
  },
  {
   "cell_type": "code",
   "execution_count": 31,
   "id": "e7bb555f68778b3a",
   "metadata": {
    "ExecuteTime": {
     "end_time": "2025-03-31T16:47:32.758438Z",
     "start_time": "2025-03-31T16:47:32.466174Z"
    }
   },
   "outputs": [],
   "source": [
    "r_gene_names = robjects.ListVector({'gene_names': robjects.StrVector(gene_names)})\n",
    "robjects.globalenv['genelist'] = r_gene_names.rx2('gene_names')\n",
    "\n",
    "homologenes_mapping = robjects.r('homologene(genelist, inTax = 6239, outTax = 9606)')"
   ]
  },
  {
   "cell_type": "code",
   "execution_count": 32,
   "id": "32896e9b012a1ad4",
   "metadata": {
    "ExecuteTime": {
     "end_time": "2025-03-31T16:47:32.868177Z",
     "start_time": "2025-03-31T16:47:32.814242Z"
    }
   },
   "outputs": [],
   "source": [
    "homologenes_df = pd.DataFrame({col: homologenes_mapping.rx2(col) for col in homologenes_mapping.names})"
   ]
  },
  {
   "cell_type": "code",
   "execution_count": 33,
   "id": "d4108f6047709fab",
   "metadata": {
    "ExecuteTime": {
     "end_time": "2025-03-31T16:47:33.170441Z",
     "start_time": "2025-03-31T16:47:33.155480Z"
    }
   },
   "outputs": [
    {
     "data": {
      "text/html": [
       "<div>\n",
       "<style scoped>\n",
       "    .dataframe tbody tr th:only-of-type {\n",
       "        vertical-align: middle;\n",
       "    }\n",
       "\n",
       "    .dataframe tbody tr th {\n",
       "        vertical-align: top;\n",
       "    }\n",
       "\n",
       "    .dataframe thead th {\n",
       "        text-align: right;\n",
       "    }\n",
       "</style>\n",
       "<table border=\"1\" class=\"dataframe\">\n",
       "  <thead>\n",
       "    <tr style=\"text-align: right;\">\n",
       "      <th></th>\n",
       "      <th>6239</th>\n",
       "      <th>9606</th>\n",
       "      <th>6239_ID</th>\n",
       "      <th>9606_ID</th>\n",
       "    </tr>\n",
       "  </thead>\n",
       "  <tbody>\n",
       "    <tr>\n",
       "      <th>0</th>\n",
       "      <td>homt-1</td>\n",
       "      <td>NTMT1</td>\n",
       "      <td>171590</td>\n",
       "      <td>28989</td>\n",
       "    </tr>\n",
       "    <tr>\n",
       "      <th>1</th>\n",
       "      <td>sesn-1</td>\n",
       "      <td>SESN3</td>\n",
       "      <td>171593</td>\n",
       "      <td>143686</td>\n",
       "    </tr>\n",
       "    <tr>\n",
       "      <th>2</th>\n",
       "      <td>Y48G1C.12</td>\n",
       "      <td>ANAPC10</td>\n",
       "      <td>3565580</td>\n",
       "      <td>10393</td>\n",
       "    </tr>\n",
       "    <tr>\n",
       "      <th>3</th>\n",
       "      <td>pgs-1</td>\n",
       "      <td>PGS1</td>\n",
       "      <td>171594</td>\n",
       "      <td>9489</td>\n",
       "    </tr>\n",
       "    <tr>\n",
       "      <th>4</th>\n",
       "      <td>csk-1</td>\n",
       "      <td>CSK</td>\n",
       "      <td>266817</td>\n",
       "      <td>1445</td>\n",
       "    </tr>\n",
       "    <tr>\n",
       "      <th>...</th>\n",
       "      <td>...</td>\n",
       "      <td>...</td>\n",
       "      <td>...</td>\n",
       "      <td>...</td>\n",
       "    </tr>\n",
       "    <tr>\n",
       "      <th>3080</th>\n",
       "      <td>mlc-2</td>\n",
       "      <td>MYLPF</td>\n",
       "      <td>181775</td>\n",
       "      <td>29895</td>\n",
       "    </tr>\n",
       "    <tr>\n",
       "      <th>3081</th>\n",
       "      <td>mlc-1</td>\n",
       "      <td>MYLPF</td>\n",
       "      <td>181776</td>\n",
       "      <td>29895</td>\n",
       "    </tr>\n",
       "    <tr>\n",
       "      <th>3082</th>\n",
       "      <td>npr-24</td>\n",
       "      <td>SSTR2</td>\n",
       "      <td>187897</td>\n",
       "      <td>6752</td>\n",
       "    </tr>\n",
       "    <tr>\n",
       "      <th>3083</th>\n",
       "      <td>H18N23.2</td>\n",
       "      <td>PPP1R3B</td>\n",
       "      <td>181788</td>\n",
       "      <td>79660</td>\n",
       "    </tr>\n",
       "    <tr>\n",
       "      <th>3084</th>\n",
       "      <td>cgt-2</td>\n",
       "      <td>UGCG</td>\n",
       "      <td>181790</td>\n",
       "      <td>7357</td>\n",
       "    </tr>\n",
       "  </tbody>\n",
       "</table>\n",
       "<p>3085 rows × 4 columns</p>\n",
       "</div>"
      ],
      "text/plain": [
       "           6239     9606  6239_ID  9606_ID\n",
       "0        homt-1    NTMT1   171590    28989\n",
       "1        sesn-1    SESN3   171593   143686\n",
       "2     Y48G1C.12  ANAPC10  3565580    10393\n",
       "3         pgs-1     PGS1   171594     9489\n",
       "4         csk-1      CSK   266817     1445\n",
       "...         ...      ...      ...      ...\n",
       "3080      mlc-2    MYLPF   181775    29895\n",
       "3081      mlc-1    MYLPF   181776    29895\n",
       "3082     npr-24    SSTR2   187897     6752\n",
       "3083   H18N23.2  PPP1R3B   181788    79660\n",
       "3084      cgt-2     UGCG   181790     7357\n",
       "\n",
       "[3085 rows x 4 columns]"
      ]
     },
     "execution_count": 33,
     "metadata": {},
     "output_type": "execute_result"
    }
   ],
   "source": [
    "homologenes_df"
   ]
  },
  {
   "cell_type": "code",
   "execution_count": 34,
   "id": "f0d935a12a32b8b2",
   "metadata": {
    "ExecuteTime": {
     "end_time": "2025-03-31T16:47:33.455702Z",
     "start_time": "2025-03-31T16:47:33.435758Z"
    }
   },
   "outputs": [],
   "source": [
    "homologenes_dict = dict(zip(homologenes_df[str(species_ids_dict[\"Caenorhabditis elegans\"])], homologenes_df[str(species_ids_dict[\"Homo sapiens\"])]))"
   ]
  },
  {
   "cell_type": "code",
   "execution_count": 35,
   "id": "f1dfdd33f30f872f",
   "metadata": {
    "ExecuteTime": {
     "end_time": "2025-03-31T16:47:34.440044Z",
     "start_time": "2025-03-31T16:47:34.251554Z"
    }
   },
   "outputs": [],
   "source": [
    "del adata.layers['denoised'] "
   ]
  },
  {
   "cell_type": "code",
   "execution_count": 36,
   "id": "7b5d408cec7dbb0c",
   "metadata": {
    "ExecuteTime": {
     "end_time": "2025-03-31T16:47:40.913284Z",
     "start_time": "2025-03-31T16:47:40.891343Z"
    }
   },
   "outputs": [],
   "source": [
    "adata.var['homolog'] = adata.var.index.map(homologenes_dict)"
   ]
  },
  {
   "cell_type": "code",
   "execution_count": 37,
   "id": "7cf6dce1fd11a62d",
   "metadata": {
    "ExecuteTime": {
     "end_time": "2025-03-31T16:47:42.375480Z",
     "start_time": "2025-03-31T16:47:42.350522Z"
    }
   },
   "outputs": [
    {
     "data": {
      "text/html": [
       "<div>\n",
       "<style scoped>\n",
       "    .dataframe tbody tr th:only-of-type {\n",
       "        vertical-align: middle;\n",
       "    }\n",
       "\n",
       "    .dataframe tbody tr th {\n",
       "        vertical-align: top;\n",
       "    }\n",
       "\n",
       "    .dataframe thead th {\n",
       "        text-align: right;\n",
       "    }\n",
       "</style>\n",
       "<table border=\"1\" class=\"dataframe\">\n",
       "  <thead>\n",
       "    <tr style=\"text-align: right;\">\n",
       "      <th></th>\n",
       "      <th>gene_ids</th>\n",
       "      <th>gene_names</th>\n",
       "      <th>gene_class</th>\n",
       "      <th>n_counts</th>\n",
       "      <th>n_cells</th>\n",
       "      <th>homolog</th>\n",
       "    </tr>\n",
       "  </thead>\n",
       "  <tbody>\n",
       "    <tr>\n",
       "      <th>homt-1</th>\n",
       "      <td>WBGene00022277</td>\n",
       "      <td>homt-1</td>\n",
       "      <td>protein_coding</td>\n",
       "      <td>9669.0</td>\n",
       "      <td>25254</td>\n",
       "      <td>NTMT1</td>\n",
       "    </tr>\n",
       "    <tr>\n",
       "      <th>sesn-1</th>\n",
       "      <td>WBGene00022279</td>\n",
       "      <td>sesn-1</td>\n",
       "      <td>protein_coding</td>\n",
       "      <td>10096.0</td>\n",
       "      <td>26876</td>\n",
       "      <td>SESN3</td>\n",
       "    </tr>\n",
       "    <tr>\n",
       "      <th>Y48G1C.12</th>\n",
       "      <td>WBGene00044345</td>\n",
       "      <td>Y48G1C.12</td>\n",
       "      <td>protein_coding</td>\n",
       "      <td>3378.0</td>\n",
       "      <td>10225</td>\n",
       "      <td>ANAPC10</td>\n",
       "    </tr>\n",
       "    <tr>\n",
       "      <th>pgs-1</th>\n",
       "      <td>WBGene00021677</td>\n",
       "      <td>pgs-1</td>\n",
       "      <td>protein_coding</td>\n",
       "      <td>6151.0</td>\n",
       "      <td>20043</td>\n",
       "      <td>PGS1</td>\n",
       "    </tr>\n",
       "    <tr>\n",
       "      <th>csk-1</th>\n",
       "      <td>WBGene00000812</td>\n",
       "      <td>csk-1</td>\n",
       "      <td>protein_coding</td>\n",
       "      <td>3963.0</td>\n",
       "      <td>14601</td>\n",
       "      <td>CSK</td>\n",
       "    </tr>\n",
       "    <tr>\n",
       "      <th>...</th>\n",
       "      <td>...</td>\n",
       "      <td>...</td>\n",
       "      <td>...</td>\n",
       "      <td>...</td>\n",
       "      <td>...</td>\n",
       "      <td>...</td>\n",
       "    </tr>\n",
       "    <tr>\n",
       "      <th>mlc-2</th>\n",
       "      <td>WBGene00003370</td>\n",
       "      <td>mlc-2</td>\n",
       "      <td>protein_coding</td>\n",
       "      <td>53036.0</td>\n",
       "      <td>25500</td>\n",
       "      <td>MYLPF</td>\n",
       "    </tr>\n",
       "    <tr>\n",
       "      <th>mlc-1</th>\n",
       "      <td>WBGene00003369</td>\n",
       "      <td>mlc-1</td>\n",
       "      <td>protein_coding</td>\n",
       "      <td>12748.0</td>\n",
       "      <td>11780</td>\n",
       "      <td>MYLPF</td>\n",
       "    </tr>\n",
       "    <tr>\n",
       "      <th>npr-24</th>\n",
       "      <td>WBGene00020086</td>\n",
       "      <td>npr-24</td>\n",
       "      <td>protein_coding</td>\n",
       "      <td>2913.0</td>\n",
       "      <td>5341</td>\n",
       "      <td>SSTR2</td>\n",
       "    </tr>\n",
       "    <tr>\n",
       "      <th>H18N23.2</th>\n",
       "      <td>WBGene00019211</td>\n",
       "      <td>H18N23.2</td>\n",
       "      <td>protein_coding</td>\n",
       "      <td>12070.0</td>\n",
       "      <td>27116</td>\n",
       "      <td>PPP1R3B</td>\n",
       "    </tr>\n",
       "    <tr>\n",
       "      <th>cgt-2</th>\n",
       "      <td>WBGene00017625</td>\n",
       "      <td>cgt-2</td>\n",
       "      <td>protein_coding</td>\n",
       "      <td>93.0</td>\n",
       "      <td>236</td>\n",
       "      <td>UGCG</td>\n",
       "    </tr>\n",
       "  </tbody>\n",
       "</table>\n",
       "<p>3064 rows × 6 columns</p>\n",
       "</div>"
      ],
      "text/plain": [
       "                 gene_ids gene_names      gene_class  n_counts  n_cells  \\\n",
       "homt-1     WBGene00022277     homt-1  protein_coding    9669.0    25254   \n",
       "sesn-1     WBGene00022279     sesn-1  protein_coding   10096.0    26876   \n",
       "Y48G1C.12  WBGene00044345  Y48G1C.12  protein_coding    3378.0    10225   \n",
       "pgs-1      WBGene00021677      pgs-1  protein_coding    6151.0    20043   \n",
       "csk-1      WBGene00000812      csk-1  protein_coding    3963.0    14601   \n",
       "...                   ...        ...             ...       ...      ...   \n",
       "mlc-2      WBGene00003370      mlc-2  protein_coding   53036.0    25500   \n",
       "mlc-1      WBGene00003369      mlc-1  protein_coding   12748.0    11780   \n",
       "npr-24     WBGene00020086     npr-24  protein_coding    2913.0     5341   \n",
       "H18N23.2   WBGene00019211   H18N23.2  protein_coding   12070.0    27116   \n",
       "cgt-2      WBGene00017625      cgt-2  protein_coding      93.0      236   \n",
       "\n",
       "           homolog  \n",
       "homt-1       NTMT1  \n",
       "sesn-1       SESN3  \n",
       "Y48G1C.12  ANAPC10  \n",
       "pgs-1         PGS1  \n",
       "csk-1          CSK  \n",
       "...            ...  \n",
       "mlc-2        MYLPF  \n",
       "mlc-1        MYLPF  \n",
       "npr-24       SSTR2  \n",
       "H18N23.2   PPP1R3B  \n",
       "cgt-2         UGCG  \n",
       "\n",
       "[3064 rows x 6 columns]"
      ]
     },
     "execution_count": 37,
     "metadata": {},
     "output_type": "execute_result"
    }
   ],
   "source": [
    "adata = adata[:,adata.var[\"homolog\"].notna()]\n",
    "adata.var"
   ]
  },
  {
   "cell_type": "markdown",
   "id": "4922e15c",
   "metadata": {},
   "source": [
    "### Save the processed adata"
   ]
  },
  {
   "cell_type": "code",
   "execution_count": 48,
   "id": "56f47161a486e6da",
   "metadata": {
    "ExecuteTime": {
     "end_time": "2025-03-31T16:55:42.629142Z",
     "start_time": "2025-03-31T16:55:41.491156Z"
    }
   },
   "outputs": [],
   "source": [
    "adata.write_h5ad(\"ad_worm_aging_processed.h5ad\")"
   ]
  }
 ],
 "metadata": {
  "kernelspec": {
   "display_name": "Python 3",
   "language": "python",
   "name": "python3"
  },
  "language_info": {
   "codemirror_mode": {
    "name": "ipython",
    "version": 3
   },
   "file_extension": ".py",
   "mimetype": "text/x-python",
   "name": "python",
   "nbconvert_exporter": "python",
   "pygments_lexer": "ipython3",
   "version": "3.6.8"
  }
 },
 "nbformat": 4,
 "nbformat_minor": 5
}
